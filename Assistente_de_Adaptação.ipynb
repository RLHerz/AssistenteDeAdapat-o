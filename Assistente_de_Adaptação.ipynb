{
  "nbformat": 4,
  "nbformat_minor": 0,
  "metadata": {
    "colab": {
      "provenance": [],
      "authorship_tag": "ABX9TyNzikqVc+tZ+CdCnWpSMohQ",
      "include_colab_link": true
    },
    "kernelspec": {
      "name": "python3",
      "display_name": "Python 3"
    },
    "language_info": {
      "name": "python"
    }
  },
  "cells": [
    {
      "cell_type": "markdown",
      "metadata": {
        "id": "view-in-github",
        "colab_type": "text"
      },
      "source": [
        "<a href=\"https://colab.research.google.com/github/RLHerz/AssistenteDeAdaptacao/blob/main/Assistente_de_Adapta%C3%A7%C3%A3o.ipynb\" target=\"_parent\"><img src=\"https://colab.research.google.com/assets/colab-badge.svg\" alt=\"Open In Colab\"/></a>"
      ]
    },
    {
      "cell_type": "markdown",
      "source": [
        "## **Assistente de Adaptação de Atividades para Alunos com Dificuldades de Aprendizagem**\n",
        "\n",
        "Este código Python utiliza o poder da Inteligência Artificial do Google (Generative AI) para auxiliar professores na adaptação de atividades educacionais para alunos com dificuldades de aprendizagem, neste primeiro momento apenas foram apresentadas adatações para alunos com laudo de **dislexia**.\n",
        "\n",
        "# **Como utilizar?**\n",
        "\n",
        "Após a execução do código cole o texto que você gostaria de adapatar e coloque o laudo do aluno, nesse caso, dislexia.\n",
        "\n",
        "Para parar o código digite **\"sair\"** nos dois campos de interação com o usuário.\n",
        "\n",
        "**Observação**: Após finalizar o código, a adaptação será formatada no campo **HISTÓRICO** de maneira mais clara.\n",
        "\n",
        "__________________\n",
        "\n",
        "**Exemplo de texto para adaptação:**\n",
        "\n",
        "A voz ativa e a voz passiva: quem faz o quê?\n",
        "\n",
        "Na língua portuguesa, a forma como organizamos as palavras em uma frase pode mudar o destaque que damos à ação e a quem a realiza. É aí que entram a **voz ativa** e a **voz passiva**, duas maneiras diferentes de construir frases com verbos transitivos diretos.\n",
        "\n",
        "**Voz Ativa:** Foco em quem pratica a ação. O sujeito é o agente da ação, ou seja, aquele que a realiza.\n",
        "\n",
        "*Exemplos*:\n",
        "\n",
        "> **O cachorro** mordeu a bola.\n",
        "> **A menina** leu o livro.\n",
        "> **O vento** derrubou a árvore.\n",
        "\n",
        "**Voz Passiva:** Foco na ação em si, destacando o que foi sofrido pelo sujeito paciente.\n",
        "\n",
        "*Exemplos*:\n",
        "\n",
        "> **A bola** foi mordida pelo cachorro.\n",
        "> **O livro** foi lido pela menina.\n",
        "> **A árvore** foi derrubada pelo vento.\n",
        "\n",
        "Observe que na voz passiva, o objeto da ação na voz ativa se torna o sujeito paciente, sofrendo a ação.\n",
        "\n",
        "**Formando a voz passiva:**\n",
        "\n",
        "A voz passiva é formada com o verbo auxiliar \"ser\" + o particípio do verbo principal.\n",
        "\n",
        "**Quando usar a voz passiva?**\n",
        "\n",
        "* Para destacar a ação em si, e não quem a realizou.\n",
        "* Quando o agente da ação é desconhecido, irrelevante ou óbvio.\n",
        "* Em textos formais, científicos ou jornalísticos, para manter a objetividade.\n",
        "\n",
        "**Exemplo:**\n",
        "\n",
        "> A vacina foi desenvolvida por pesquisadores brasileiros. (ênfase na vacina)\n",
        "\n",
        "**Voz Passiva Analítica x Sintética:**\n",
        "\n",
        "Além da **voz passiva analítica** (ser + particípio), existe a **voz passiva sintética**, formada com o verbo na 3ª pessoa + pronome \"se\".\n",
        "\n",
        "> **Vende-se** esta casa.\n",
        "> **Consertam-se** sapatos.\n",
        "\n",
        "**Atenção!** Nem todos os verbos transitivos diretos admitem a voz passiva.\n",
        "\n",
        "**Exercícios:**\n",
        "\n",
        "1. Identifique se as frases estão na voz ativa ou passiva.\n",
        "2. Passe as frases da voz ativa para a passiva e vice-versa.\n",
        "\n",
        "Com a prática, você dominará a voz ativa e passiva, enriquecendo sua escrita e comunicação!"
      ],
      "metadata": {
        "id": "TL8igB1r-R7M"
      }
    },
    {
      "cell_type": "markdown",
      "source": [
        "# **INSTALAÇÕES E IMPLEMENTAÇÕES**"
      ],
      "metadata": {
        "id": "MbeidQ8AuaHO"
      }
    },
    {
      "cell_type": "code",
      "source": [
        "#Instalação do \"google.generativeai\"\n",
        "!pip install -U -q google-generativeai\n",
        "\n",
        "#Importações\n",
        "import google.generativeai as genai\n",
        "import tkinter as tk\n",
        "from google.colab import userdata\n",
        "api_key = userdata.get('SECRET_KEY')\n",
        "genai.configure(api_key=api_key)"
      ],
      "metadata": {
        "id": "f9Ggn_maMySb"
      },
      "execution_count": 1,
      "outputs": []
    },
    {
      "cell_type": "markdown",
      "source": [
        "# **CONFIGURAÇÕES DE GERAÇÃO E SEGURANÇA**"
      ],
      "metadata": {
        "id": "J1arY_5-u8ij"
      }
    },
    {
      "cell_type": "code",
      "source": [
        "#Configurações de Geração\n",
        "generation_config = {\n",
        "  \"candidate_count\": 1,\n",
        "  \"temperature\": 0.5,\n",
        "}"
      ],
      "metadata": {
        "id": "O9KOooFOM56L"
      },
      "execution_count": 2,
      "outputs": []
    },
    {
      "cell_type": "code",
      "source": [
        "#Configurações de Segurança\n",
        "safety_settings = {\n",
        "    'HATE': 'BLOCK_NONE',\n",
        "    'HARASSMENT': 'BLOCK_NONE',\n",
        "    'SEXUAL': 'BLOCK_NONE',\n",
        "    'DANGEROUS': 'BLOCK_NONE'\n",
        "}"
      ],
      "metadata": {
        "id": "zDlK_4ukM95E"
      },
      "execution_count": 3,
      "outputs": []
    },
    {
      "cell_type": "code",
      "source": [
        "#Criação do modelo AI\n",
        "model = genai.GenerativeModel(model_name='gemini-1.0-pro',\n",
        "                                  generation_config=generation_config,\n",
        "                                  safety_settings=safety_settings)\n"
      ],
      "metadata": {
        "id": "DaX9wczINAtU"
      },
      "execution_count": 4,
      "outputs": []
    },
    {
      "cell_type": "markdown",
      "source": [
        "#**PREDEFINIÇÃO INICIAL DO CHATBOT (CONTEXTUALIZAÇÃO)**"
      ],
      "metadata": {
        "id": "c74AeOrTwkpv"
      }
    },
    {
      "cell_type": "code",
      "source": [
        "# Prompt inicial descrevendo a função do assistente\n",
        "prompt_inicial = \"Você é a inteligência artificial de uma escola. Adapte as atividades, tornando-as mais acessíveis para alunos que apresentam laudo. Use recursos visuais sempre que possível.\"\n",
        "\n",
        "# Iniciando o chat\n",
        "chat = model.start_chat()\n",
        "\n",
        "# Enviando o prompt inicial diretamente\n",
        "response = chat.send_message(prompt_inicial)\n",
        "\n",
        "# Exemplos de adaptação\n",
        "exemplos = [\n",
        "    {\n",
        "        \"input\": \"## O Descobrimento do Brasil: Um Encontro de Mundos\\n\\nNo dia 22 de abril de 1500, uma frota portuguesa liderada por Pedro Álvares Cabral avistou um novo território, que mais tarde seria chamado de Brasil. O encontro com os nativos, que habitavam a terra há milênios, marcou o início de uma nova era para ambos os povos. Os portugueses, em busca de riquezas e novas rotas comerciais, encontraram um território vasto e rico em recursos naturais. Os nativos, por sua vez, viram seu mundo ser transformado pelo contato com uma cultura completamente diferente.\\n\\nA chegada dos portugueses ao Brasil trouxe consequências profundas. A colonização trouxe consigo a exploração dos recursos naturais, a imposição de uma nova cultura e religião, e conflitos com os povos indígenas. Ao longo dos séculos, o Brasil se tornou uma importante colônia portuguesa, com uma economia baseada na agricultura e no comércio de escravos. A independência, conquistada em 1822, abriu caminho para a formação de uma nação diversa e complexa, marcada pela mistura de culturas e etnias.\\n\\n### Perguntas para reflexão:\\n\\n1. **Quais foram os principais motivos que levaram os portugueses a explorar e colonizar o Brasil?**\\n2. **Como era a vida dos povos indígenas antes da chegada dos europeus? Como eles foram impactados pela colonização?**\\n3. **Quais foram as principais atividades econômicas desenvolvidas no Brasil durante o período colonial?**\\n4. **Quais os legados, positivos e negativos, que o período colonial deixou para o Brasil de hoje?**\\n5. **Como o encontro de culturas entre europeus, indígenas e africanos contribuiu para a formação da identidade brasileira?**\",\n",
        "        \"input 2\": \"aluno com dislexia\",\n",
        "        \"output\": \"## O Brasil foi Descoberto! 🌎 \\n\\nImagina só... era 22 de abril de 1500, e um grupo de portugueses liderados pelo Pedro Álvares Cabral chegou num lugar totalmente novo! Esse lugar era o Brasil! 🇧🇷\\n\\nAntes dos portugueses chegarem, os povos indígenas já moravam aqui há muito tempo. Eles tinham sua própria cultura, suas tradições e viviam em harmonia com a natureza. 🏹🌳\\n\\nOs portugueses vieram para cá procurando coisas valiosas e novas rotas para o comércio. Eles encontraram um lugar enorme, cheio de riquezas naturais. 💎🌲\\n\\nCom a chegada dos portugueses, muitas coisas mudaram. Eles começaram a explorar as riquezas do Brasil, a ensinar sua cultura e religião, e isso gerou conflitos com os indígenas. 😔\\n\\nDurante muitos anos, o Brasil foi colônia de Portugal. A economia girava em torno da agricultura e do comércio de escravos. 🧑‍🌾⛓️\\n\\nEm 1822, o Brasil conquistou sua independência e começou a se tornar o país que conhecemos hoje: um lugar cheio de diversidade cultural e com uma mistura de povos! 🎉\\n\\n**🤔 Vamos Pensar um Pouco?**\\n\\n1. **Por que os portugueses resolveram explorar o Brasil?**\\n2. **Como era a vida dos indígenas antes dos portugueses chegarem? E depois?** \\n3. **No tempo da colônia, o que os brasileiros faziam para trabalhar?**\\n4. **O que a época da colônia deixou de bom e de ruim para o Brasil de hoje?**\\n5. **Como a mistura de culturas ajudou a formar a identidade do povo brasileiro?**\"\n",
        "    },\n",
        "    {\n",
        "        \"input\": \"## O Equilíbrio Químico e suas Maravilhas\\n\\nImagine uma gangorra. Para que ela fique equilibrada, precisamos ter pesos iguais em ambos os lados, certo? No mundo da química, as reações também buscam um equilíbrio, mas ao invés de pesos, lidamos com **concentrações de reagentes e produtos**. \\n\\nEm uma **reação reversível**, tanto a formação de produtos quanto a regeneração dos reagentes ocorrem simultaneamente. Inicialmente, a velocidade da reação direta (formação de produtos) é alta, enquanto a velocidade da reação inversa (regeneração dos reagentes) é baixa. Com o tempo, as velocidades se igualam, atingindo o **equilíbrio químico**. \\n\\nNesse estado de equilíbrio dinâmico, as concentrações de reagentes e produtos permanecem constantes, mas as reações continuam ocorrendo em velocidades iguais. É como se a gangorra estivesse perfeitamente parada, mas com as crianças ainda se movendo para cima e para baixo.\\n\\nA constante de equilíbrio (Kc) nos ajuda a entender a posição desse equilíbrio. Uma Kc grande indica que a reação favorece a formação de produtos, enquanto uma Kc pequena indica que a reação favorece os reagentes.\\n\\nO princípio de Le Chatelier nos mostra como o equilíbrio químico reage a mudanças externas. Se alteramos a concentração, temperatura ou pressão do sistema, o equilíbrio se desloca para minimizar essa mudança, buscando um novo equilíbrio. É como se alguém pulasse na gangorra - o equilíbrio é momentaneamente perturbado, mas o sistema se ajusta para encontrar um novo ponto de estabilidade.\\n\\n**Questões:**\\n\\n1. **Explique a diferença entre uma reação irreversível e uma reação reversível.**\\n2. **O que significa dizer que um sistema atingiu o equilíbrio químico?**\\n3. **Como a constante de equilíbrio (Kc) se relaciona com as concentrações de reagentes e produtos?**\\n4. **De acordo com o princípio de Le Chatelier, o que acontece com o equilíbrio químico quando aumentamos a concentração de um dos reagentes?**\\n5. **Dê um exemplo do cotidiano que ilustra o conceito de equilíbrio dinâmico.**\",\n",
        "        \"input 2\": \"aluno com dislexia\",\n",
        "        \"output\": \"## Equilíbrio Químico: Um Balancê Especial!\\n\\n[IMAGEM DE UMA GANGORRA EQUILIBRADA]\\n\\nNa química, as reações também buscam um equilíbrio, como uma gangorra! Mas em vez de pesos, falamos da **quantidade de ingredientes e resultados**. \\n\\n**Reações que vão e voltam:** Imagine que os ingredientes viram resultados, e os resultados viram ingredientes de novo, tudo ao mesmo tempo! No começo, os resultados se formam rapidinho, e os ingredientes voltam devagar. Com o tempo, a velocidade fica igual, e aí temos o **equilíbrio químico**!\\n\\n**Equilíbrio Químico:** É como a gangorra parada, mas com as crianças mexendo para cima e para baixo! A quantidade de ingredientes e resultados fica igual, mas as reações continuam acontecendo.\\n\\n**Perguntas:**\\n\\n1.  O que é equilíbrio químico? Use o exemplo da gangorra para explicar.\\n2.  O que acontece com o equilíbrio químico se adicionarmos mais ingrediente?\"\n",
        "    },\n",
        "    {\n",
        "        \"input\": \"## Os Ricos Biomas Brasileiros\\n\\nO Brasil, com sua imensa extensão territorial, abriga uma variedade impressionante de biomas, cada um com suas características únicas de fauna, flora e clima. Desde a exuberante Floresta Amazônica até os campos abertos do Cerrado, passando pelas florestas tropicais da Mata Atlântica e os campos inundáveis do Pantanal, a diversidade de ecossistemas brasileiros é um tesouro natural.\\n\\nA Floresta Amazônica, conhecida como o \\\"pulmão do mundo\\\", é o maior bioma brasileiro, abrigando uma incalculável riqueza de espécies. O Cerrado, com suas árvores de casca grossa e raízes profundas, é o segundo maior bioma e desempenha um papel crucial na regulação do clima. A Mata Atlântica, apesar de devastada ao longo dos séculos, ainda guarda uma biodiversidade surpreendente. O Pantanal, com suas cheias e secas cíclicas, é um paraíso para a vida selvagem, abrigando jacarés, capivaras, tuiuiús e onças-pintadas. Não podemos esquecer da Caatinga, um bioma único adaptado à aridez, com plantas espinhosas e animais resistentes.\\n\\nA preservação desses biomas é fundamental para o equilíbrio ambiental e a manutenção da vida no planeta. Cada um deles enfrenta desafios, como o desmatamento, as queimadas e a poluição. É nosso dever conhecer, valorizar e proteger esses ecossistemas tão importantes para o futuro do Brasil e do mundo.\\n\\n**Perguntas:**\\n\\n1. Quais são os principais biomas brasileiros e onde eles estão localizados?\\n2. Por que a Floresta Amazônica é considerada o \\\"pulmão do mundo\\\"?\\n3. Quais são as características únicas do bioma Cerrado?\\n4. Qual a importância do Pantanal para a vida selvagem?\\n5. Quais são os principais desafios enfrentados pelos biomas brasileiros?\",\n",
        "        \"input 2\": \"dislexia\",\n",
        "        \"output\": \"## A Natureza Rica do Brasil\\n\\nO Brasil é gigante! E com todo esse espaço, temos vários tipos de natureza, cada um com seus bichos, plantas e clima. Vamos conhecer alguns?\\n\\n*   **Floresta Amazônica:** É como um pulmão enorme para o planeta, cheio de árvores e bichos que a gente nem imagina!\\n*   **Cerrado:** Parece um campo com árvores de casca dura e raízes bem fundas. Ele ajuda a manter o tempo bom. \\n*   **Mata Atlântica:** Já foi bem maior, mas ainda tem muitos bichos diferentes morando lá.\\n*   **Pantanal:** Muda bastante, às vezes tem muita água, às vezes seca. Jacarés, capivaras e onças adoram esse lugar.\\n*   **Caatinga:**  É seco, mas tem plantas com espinhos e bichos que conseguem viver com pouca água.\\n\\nPrecisamos cuidar desses lugares, eles são importantes para o mundo todo! Mas tem coisas que fazem mal, como cortar árvores e queimar a natureza. Vamos aprender mais para proteger o Brasil!\\n\\n**Vamos Pensar:**\\n\\n1.  Que tipo de natureza a gente encontra no Brasil e onde fica cada uma?\\n2.  Por que a Floresta Amazônica é tão importante?\\n3.  O que tem de diferente no Cerrado?\\n4.  Por que o Pantanal é bom para os bichos?\\n5.  Quais são os problemas que a natureza do Brasil enfrenta?\"\n",
        "    },\n",
        "    {\n",
        "        \"input\": \"## A Intrincada Teia da Vida: Interações Ecológicas e seus Impactos\\n\\nAo observarmos a natureza, podemos nos deparar com uma complexa rede de interações entre os seres vivos. Essas interações, conhecidas como **interações ecológicas**, moldam a dinâmica das comunidades e ecossistemas, influenciando a distribuição e abundância das espécies, o fluxo de energia e a ciclagem de nutrientes.\\n\\nAs interações ecológicas podem ser categorizadas de diversas formas, sendo as mais comuns: **competição**, **predação**, **parasitismo**, **comensalismo** e **mutualismo**. Cada uma dessas interações apresenta suas particularidades e impactos na comunidade.\\n\\nA **competição**, por exemplo, ocorre quando indivíduos, da mesma espécie ou de espécies diferentes, competem por recursos limitados, como alimento, água, território ou luz solar. Essa disputa pode levar à exclusão de uma das espécies ou à coexistência, mediante a especialização em diferentes nichos ecológicos.\\n\\nA **predação**, por sua vez, caracteriza-se pela interação entre um predador e sua presa. Os predadores, geralmente maiores e mais fortes, capturam e consomem as presas, regulando suas populações e influenciando a estrutura da comunidade.\\n\\nJá o **parasitismo** envolve uma relação desigual, em que um organismo, o parasita, se beneficia do hospedeiro, causando-lhe algum tipo de prejuízo, geralmente sem levá-lo à morte. O parasitismo, assim como a predação, atua como um importante fator de controle populacional.\\n\\nO **comensalismo**, por outro lado, descreve uma relação em que apenas um dos organismos se beneficia, sem causar prejuízo ou benefício ao outro. Um exemplo clássico é o da rêmora, que se fixa ao corpo do tubarão para se locomover e aproveitar os restos de alimento.\\n\\nPor fim, o **mutualismo** representa uma interação benéfica para ambos os organismos envolvidos. Um exemplo emblemático é a relação entre as abelhas e as flores, em que as abelhas obtêm néctar e pólen, enquanto as flores são polinizadas.\\n\\nAs interações ecológicas não se restringem a categorias estanques, podendo haver sobreposição e variação na intensidade da interação ao longo do tempo. É importante destacar que essas interações são essenciais para a manutenção da biodiversidade e para o funcionamento equilibrado dos ecossistemas. Compreender a complexa teia da vida nos permite ter uma visão mais abrangente da natureza e dos desafios enfrentados para a sua conservação.\\n\\nPara aprofundar seus conhecimentos sobre as interações ecológicas, pesquise exemplos específicos de cada tipo de interação, explore as diferentes estratégias adaptativas desenvolvidas pelos organismos e analise os impactos dessas interações em diferentes ecossistemas.\",\n",
        "        \"input 2\": \"dislexia\",\n",
        "        \"output\": \"## A Teia da Vida: Amizades e Conflitos na Natureza\\n\\nImagine a natureza como um grande palco, onde os seres vivos interagem como atores em uma peça. Essas interações, que chamamos de **interações ecológicas**, são como amizades, brigas e acordos que moldam a vida na Terra.\\n\\n**Competição:** É como uma disputa por um brinquedo! Animais e plantas podem competir por comida, água, espaço ou luz do sol. Quem leva a melhor? Depende da força de cada um e de como se adaptam ao ambiente.\\n\\n**Predação:** É a luta pela sobrevivência! O predador, como um leão, caça e come a presa, como uma zebra. Essa interação é importante para controlar as populações e manter o equilíbrio da natureza.\\n\\n**Parasitismo:** É como um amigo folgado! O parasita, como um carrapato, se aproveita do hospedeiro, como um cachorro, para sobreviver, mas causa algum incômodo. É uma relação desigual, mas importante para o controle de populações.\\n\\n**Comensalismo:** É como pegar uma carona! Um organismo se beneficia, como a rêmora que se prende ao tubarão para se locomover, enquanto o outro não ganha nem perde nada.\\n\\n**Mutualismo:** É a amizade verdadeira! Ambos os organismos se beneficiam, como as abelhas que coletam néctar das flores e, em troca, as polinizam.\\n\\nAs interações ecológicas são complexas e podem mudar com o tempo. É como uma dança, com passos diferentes e ritmos variados! Entender essas relações nos ajuda a compreender a teia da vida e a importância de proteger a natureza.\\n\\n**Para saber mais:**\\n\\n* Procure exemplos de cada interação ecológica, como a relação entre o leão e a zebra (predação) ou a abelha e a flor (mutualismo).\\n* Observe como os animais e plantas se adaptam para sobreviver em seus ambientes.\\n* Pense no impacto das interações ecológicas em diferentes lugares, como florestas, oceanos e desertos.\\n\\n**Lembre-se:** Use imagens, desenhos e exemplos concretos para facilitar a compreensão. Explore a linguagem visual e auditiva para tornar o aprendizado mais interessante e acessível.\"\n",
        "    },\n",
        "    {\n",
        "        \"input\": \"## Desvendando a Fórmula de Bhaskara: Uma Ferramenta Poderosa para Equações do 2º Grau\\n\\nOlá, pessoal! Hoje vamos mergulhar em um dos tópicos mais importantes da matemática: as equações do segundo grau. \\n\\nVocês já se depararam com problemas que envolvem calcular áreas, trajetórias de projéteis ou otimização de recursos? Pois é, muitos desses problemas podem ser modelados por equações do tipo **ax² + bx + c = 0**, onde a, b e c são números reais e a ≠ 0. \\n\\nE como podemos encontrar as soluções, ou raízes, dessas equações? É aí que entra a **famosa Fórmula de Bhaskara**!\\n\\n**Mas quem foi Bhaskara?** \\n\\nBhaskara Akaria foi um matemático indiano do século XII que, dentre várias contribuições, nos presenteou com uma fórmula elegante para resolver equações do segundo grau:\\n\\n**x = (-b ± √(b² - 4ac)) / 2a**\\n\\nEssa fórmula nos permite calcular as raízes de qualquer equação do segundo grau de forma direta, a partir dos coeficientes a, b e c. Fantástico, não é?\\n\\n**Vamos desvendar essa fórmula!**\\n\\n* **b² - 4ac:** Essa parte é chamada de **discriminante (Δ)** e nos dá informações importantes sobre as raízes:\\n    * Se Δ > 0: a equação possui duas raízes reais e distintas.\\n    * Se Δ = 0: a equação possui duas raízes reais e iguais (uma raiz dupla).\\n    * Se Δ < 0: a equação não possui raízes reais (as raízes são complexas).\\n* **-b ± √Δ:** Essa parte nos mostra que podemos ter duas soluções, uma com o sinal positivo (+) e outra com o sinal negativo (-) antes da raiz quadrada.\\n* **2a:** O denominador representa o dobro do coeficiente \\\"a\\\".\\n\\n**Na prática:**\\n\\nPara usar a fórmula, basta substituir os valores de a, b e c da sua equação e realizar as operações matemáticas. Vejamos um exemplo:\\n\\nEncontre as raízes da equação x² - 5x + 6 = 0.\\n\\n* a = 1, b = -5, c = 6\\n* Δ = (-5)² - 4 * 1 * 6 = 1\\n* x = (5 ± √1) / 2 * 1\\n* x1 = 3 e x2 = 2\\n\\n**Conclusão:**\\n\\nA Fórmula de Bhaskara é uma ferramenta poderosa para solucionar equações do segundo grau. Com ela, podemos encontrar as raízes de forma direta e eficiente, abrindo portas para a resolução de diversos problemas em diferentes áreas do conhecimento.\\n\\n**Agora é com vocês!**\\n\\nQue tal praticar a Fórmula de Bhaskara resolvendo alguns exercícios? Com dedicação e estudo, vocês dominarão essa ferramenta essencial para a matemática e suas aplicações no mundo real!\",\n",
        "        \"input 2\": \"dislexia\",\n",
        "        \"output\": \"## Desvendando a Fórmula Mágica: Encontrando as Raízes Secretas\\n\\nVamos imaginar as equações do segundo grau como portas secretas, e a Fórmula de Bhaskara como a chave mágica para abri-las!\\n\\n**Equações do Segundo Grau:** São como códigos secretos, tipo: 2x² + 5x - 3 = 0.  O \\\"x\\\" é o nosso segredo, a chave que queremos encontrar!\\n\\n**Bhaskara, o Mago da Matemática:** Um matemático esperto criou uma fórmula mágica para encontrar o \\\"x\\\", as raízes secretas da equação.\\n\\n**A Fórmula Mágica:**\\n\\nx = (-b ± √(b² - 4ac)) / 2a\\n\\nParece complicado? Vamos dividir a fórmula em partes:\\n\\n* **b² - 4ac:** É como uma pista, chamada discriminante (Δ). Ela nos diz quantas raízes secretas existem:\\n    * **Δ > 0:** Duas raízes diferentes, como duas chaves que abrem a mesma porta.\\n    * **Δ = 0:** Uma raiz dupla, como uma chave que abre duas portas ao mesmo tempo.\\n    * **Δ < 0:**  Não tem raízes reais, a porta está trancada!\\n\\n* **-b ± √Δ:**  Indica que temos duas opções para a raiz, com sinais diferentes (+ ou -).\\n* **2a:** É o dobro do primeiro número da equação.\\n\\n**Exemplo Mágico:**\\n\\nVamos abrir a porta secreta da equação x² - 5x + 6 = 0:\\n\\n1. **Identificar os números mágicos:** a = 1, b = -5, c = 6.\\n2. **Calcular a pista (Δ):** (-5)² - 4 * 1 * 6 = 1. A pista é positiva!\\n3. **Aplicar a Fórmula Mágica:** \\n   * x = (5 ± √1) / 2 * 1\\n   * x1 = 3  (primeira chave)\\n   * x2 = 2  (segunda chave)\\n\\n**Conclusão:**\\n\\nCom a Fórmula de Bhaskara, desvendamos a equação e encontramos suas raízes secretas! \\n\\n**Lembre-se:**\\n\\n* Use cores diferentes para destacar as partes da fórmula.\\n* Desenhe a fórmula como um mapa do tesouro, guiando o aluno passo a passo.\\n* Use exemplos com números pequenos e situações do dia a dia para facilitar a compreensão.\\n\\nCom prática e criatividade, a Fórmula de Bhaskara se torna uma ferramenta poderosa e divertida para desvendar os mistérios das equações!\"\n",
        "    },\n",
        "    {\n",
        "        \"input\": \"## Desvendando os Mistérios do Objeto Direto e Indireto\\n\\nEm português, a ação expressa pelo verbo pode recair sobre diferentes elementos na frase. É aí que entram os objetos, diretos e indiretos, que complementam o significado do verbo e nos ajudam a entender quem realiza e quem recebe a ação.\\n\\n**Objeto Direto: o alvo da ação**\\n\\nImagine a frase: \\\"Maria comeu **o bolo**\\\".  A ação de comer realizada por Maria recai diretamente sobre \\\"o bolo\\\".  Ele é o objeto direto, respondendo à pergunta \\\"O que Maria comeu?\\\".\\n\\n**Características do Objeto Direto:**\\n\\n* Complementa o verbo transitivo direto (VTD).\\n* Normalmente, não é precedido por preposição, mas pode ocorrer com preposições em casos específicos.\\n* Pode ser substituído pelos pronomes oblíquos \\\"o(s)\\\", \\\"a(s)\\\".\\n* Exemplo: \\\"Encontrei **meus amigos** na festa\\\" - \\\"Encontrei-**os** na festa\\\".\\n\\n**Objeto Indireto: o beneficiário ou destinatário da ação**\\n\\nJá na frase: \\\"João deu **um presente** **para Maria**\\\", temos dois objetos. \\\"Um presente\\\" é o objeto direto, pois é o que João deu.  \\\"Para Maria\\\" é o objeto indireto, pois indica quem se beneficia da ação de dar.\\n\\n**Características do Objeto Indireto:**\\n\\n* Complementa o verbo transitivo indireto (VTI) ou verbo transitivo direto e indireto (VTDI).\\n* É sempre precedido por preposição (a, de, com, em, para, etc.).\\n* Pode ser substituído pelos pronomes oblíquos \\\"lhe(s)\\\".\\n* Exemplo: \\\"Enviei **uma carta** **para meu irmão**\\\" - \\\"Enviei-**lhe** **uma carta**\\\".\\n\\n**Distinguindo Objeto Direto e Indireto:**\\n\\nPara não confundir, lembre-se:\\n\\n* **Objeto Direto:** sofre a ação do verbo diretamente. Pergunte \\\"O quê?\\\" ou \\\"Quem?\\\" após o verbo.\\n* **Objeto Indireto:** recebe o benefício ou é o destinatário da ação. Pergunte \\\"A quem?\\\", \\\"Para quem?\\\", \\\"De quem?\\\" após o verbo.\\n\\n**Mãos à obra!**\\n\\nAgora que você já sabe a diferença, que tal praticar?  Identifique os objetos diretos e indiretos nas seguintes frases:\\n\\n1. A professora explicou a lição aos alunos.\\n2. O cachorro mordeu o carteiro.\\n3. Eu gosto de música clássica.\\n4. Ana escreveu uma carta para sua avó.\\n\\nCom prática e atenção, você dominará os objetos diretos e indiretos e navegará com mais segurança pelo mundo da gramática!\",\n",
        "        \"input 2\": \"dislexia\",\n",
        "        \"output\": \"## Desvendando os Mistérios do Objeto Direto e Indireto: Uma Aventura da Gramática!\\n\\nVamos imaginar a gramática como um jogo, com suas peças e regras! Duas peças importantes são o **Objeto Direto** e o **Objeto Indireto**.  Eles nos ajudam a entender quem faz e quem recebe a ação numa frase.\\n\\n**Objeto Direto: Acerte o Alvo!**\\n\\nPense na frase: \\\"Maria comeu **o bolo**\\\".  Maria realizou a ação de comer, e o alvo dessa ação foi \\\"o bolo\\\".  Ele é o **Objeto Direto**, respondendo à pergunta \\\"O que Maria comeu?\\\".\\n\\n**Como Identificar o Objeto Direto:**\\n\\n* Ele completa a ação de um verbo, como um alvo que você precisa acertar.\\n* Geralmente, ele vem logo depois do verbo, sem preposição.\\n* Use \\\"o que?\\\" ou \\\"quem?\\\" depois do verbo para encontrá-lo!\\n* Podemos substituí-lo por \\\"o(s)\\\", \\\"a(s)\\\" para simplificar a frase.\\n* Exemplo: \\\"Encontrei **meus amigos** na festa\\\" - \\\"Encontrei-**os** na festa\\\".\\n\\n**Objeto Indireto: Para Quem Vai o Presente?**\\n\\nAgora imagine: \\\"João deu **um presente** **para Maria**\\\". João deu algo, certo? \\\"Um presente\\\" é o **Objeto Direto**. Mas, para quem ele deu? \\\"Para Maria\\\" nos diz quem se beneficia da ação, sendo o **Objeto Indireto**.\\n\\n**Como Identificar o Objeto Indireto:**\\n\\n* Ele indica quem recebe o benefício da ação, como receber um presente!\\n* Sempre vem com uma preposição antes: \\\"a\\\", \\\"de\\\", \\\"com\\\", \\\"em\\\", \\\"para\\\"...\\n* Use \\\"a quem?\\\", \\\"para quem?\\\", \\\"de quem?\\\" depois do verbo para encontrá-lo!\\n* Podemos substituí-lo por \\\"lhe(s)\\\" para simplificar a frase.\\n* Exemplo: \\\"Enviei **uma carta** **para meu irmão**\\\" - \\\"Enviei-**lhe** **uma carta**\\\".\\n\\n**Distinguindo os Objetos: Treine sua Mira!**\\n\\nPara não confundir, lembre-se:\\n\\n* **Objeto Direto:** sofre a ação diretamente. Pergunte \\\"O quê?\\\" ou \\\"Quem?\\\" após o verbo.\\n* **Objeto Indireto:** recebe o benefício da ação. Pergunte \\\"A quem?\\\", \\\"Para quem?\\\", \\\"De quem?\\\" após o verbo.\\n\\n**Hora da Prática!**\\n\\nQue tal testar suas habilidades? Identifique os objetos diretos e indiretos nas frases abaixo:\\n\\n1. A professora explicou a lição **aos alunos**.\\n2. O cachorro mordeu **o carteiro**.\\n3. Eu gosto **de música clássica**.\\n4. Ana escreveu **uma carta** **para sua avó**.\\n\\nCom prática, você dominará o jogo da gramática e seus objetos! Use cores, grife as frases e crie seus próprios exemplos para aprender de forma divertida!\"\n",
        "    }\n",
        "]\n",
        "\n",
        "# Formatando os exemplos em uma única string\n",
        "exemplos_formatados = \"\"\n",
        "for i, exemplo in enumerate(exemplos):\n",
        "    exemplos_formatados += f\"Exemplo {i+1}:\\n\"\n",
        "    exemplos_formatados += f\"Input: {exemplo['input']}\\n\"\n",
        "    exemplos_formatados += f\"Input 2: {exemplo['input 2']}\\n\"\n",
        "    exemplos_formatados += f\"Output: {exemplo['output']}\\n\\n\"\n",
        "\n",
        "# Enviando todos os exemplos de uma vez\n",
        "chat.send_message(exemplos_formatados)"
      ],
      "metadata": {
        "colab": {
          "base_uri": "https://localhost:8080/",
          "height": 463
        },
        "id": "Mz10CNkZGPvf",
        "outputId": "c1e9d40b-e014-4363-ca67-2e32abb7bcfb"
      },
      "execution_count": 5,
      "outputs": [
        {
          "output_type": "execute_result",
          "data": {
            "text/plain": [
              "response:\n",
              "GenerateContentResponse(\n",
              "    done=True,\n",
              "    iterator=None,\n",
              "    result=glm.GenerateContentResponse({'candidates': [{'content': {'parts': [{'text': '**Exemplo 7:**\\n\\n**Input:**\\n\\n## A Revolução Industrial: Uma Transformação Profunda\\n\\nNo século XVIII, a Europa passou por uma transformação profunda conhecida como Revolução Industrial. Impulsionada por inovações tecnológicas, como a máquina a vapor e o tear mecânico, a Revolução Industrial marcou o início de uma nova era de produção em massa e urbanização.\\n\\nA Revolução Industrial teve um impacto profundo na sociedade, economia e meio ambiente. As fábricas substituíram as oficinas artesanais, levando a uma produção mais eficiente e a uma maior disponibilidade de bens. A urbanização aumentou à medida que as pessoas se mudavam para as cidades em busca de emprego nas fábricas.\\n\\nNo entanto, a Revolução Industrial também trouxe desafios. As condições de trabalho nas fábricas eram muitas vezes perigosas e insalubres. A poluição do ar e da água aumentou à medida que as fábricas liberavam fumaça e resíduos no meio ambiente.\\n\\nApesar dos desafios, a Revolução Industrial lançou as bases para o mundo moderno. As inovações tecnológicas e os avanços econômicos que surgiram durante este período continuam a moldar nossas vidas hoje.\\n\\n**Perguntas para reflexão:**\\n\\n1. Quais foram as principais inovações tecnológicas que impulsionaram a Revolução Industrial?\\n2. Como a Revolução Industrial impactou a produção de bens?\\n3. Quais foram as consequências sociais e ambientais da Revolução Industrial?\\n4. Quais são os legados duradouros da Revolução Industrial no mundo moderno?\\n5. Como a Revolução Industrial influenciou o desenvolvimento das cidades?\\n\\n**Input 2:**\\n\\n**Aluno com dislexia**\\n\\n## A Revolução Industrial: Uma Mudança Grande!\\n\\nNo século 18, a Europa mudou muito! Foi a Revolução Industrial. Máquinas novas, como a máquina a vapor e o tear mecânico, ajudaram a fazer as coisas mais rápido e mais fáceis.\\n\\nA Revolução Industrial mudou tudo! As fábricas substituíram as oficinas, e as cidades ficaram maiores porque as pessoas se mudaram para lá para trabalhar nas fábricas.\\n\\nMas também teve coisas ruins. As fábricas eram perigosas e sujas, e a poluição aumentou.\\n\\nMesmo assim, a Revolução Industrial foi importante. As máquinas novas e as fábricas ajudaram a criar o mundo que temos hoje.\\n\\n**Vamos Pensar um Pouco:**\\n\\n1. Quais máquinas novas ajudaram na Revolução Industrial?\\n2. Como as fábricas mudaram a maneira como as coisas eram feitas?\\n3. Quais foram os problemas que a Revolução Industrial trouxe?\\n4. Como a Revolução Industrial influenciou as cidades?\\n5. O que aprendemos com a Revolução Industrial hoje?'}], 'role': 'model'}, 'finish_reason': 1, 'index': 0, 'safety_ratings': [{'category': 9, 'probability': 1, 'blocked': False}, {'category': 8, 'probability': 1, 'blocked': False}, {'category': 7, 'probability': 1, 'blocked': False}, {'category': 10, 'probability': 1, 'blocked': False}], 'token_count': 0, 'grounding_attributions': []}]}),\n",
              ")"
            ]
          },
          "metadata": {},
          "execution_count": 5
        }
      ]
    },
    {
      "cell_type": "markdown",
      "source": [
        "# **INICIANDO O CHAT**"
      ],
      "metadata": {
        "id": "ju1_1zvpCCj6"
      }
    },
    {
      "cell_type": "code",
      "source": [
        "# Loop de interação\n",
        "while True:\n",
        "  texto_atividade = input(\"Insira o texto da atividade: \")\n",
        "  laudo_aluno = input(\"Insira o laudo do aluno (ex: dislexia): \")\n",
        "\n",
        "  if texto_atividade == \"fim\" or laudo_aluno == \"fim\":\n",
        "    break\n",
        "\n",
        "  prompt = f\"input: ## {texto_atividade}\\n\\ninput 2: aluno com {laudo_aluno}\"\n",
        "  response = chat.send_message(prompt)\n",
        "  print(\"Adaptação:\", response.text, '\\n\\n')\n"
      ],
      "metadata": {
        "colab": {
          "base_uri": "https://localhost:8080/",
          "height": 519
        },
        "id": "b8nZK5L5B0x3",
        "outputId": "f8bcc95b-332b-4a5e-c342-e80a679d13fd"
      },
      "execution_count": 6,
      "outputs": [
        {
          "name": "stdout",
          "output_type": "stream",
          "text": [
            "Insira o texto da atividade: ## O Brasil na Segunda Guerra Mundial: uma participação tardia, mas decisiva  A participação do Brasil na Segunda Guerra Mundial, embora tardia, foi decisiva para a vitória dos Aliados. Inicialmente neutro, o Brasil se viu pressionado por ataques de submarinos alemães a navios mercantes brasileiros, que culminaram no afundamento de cinco embarcações e na morte de mais de 600 pessoas.   Esse evento, somado à crescente pressão popular e diplomática dos Estados Unidos, levou Getúlio Vargas a declarar guerra ao Eixo em agosto de 1942. A partir daí, o Brasil se engajou em um esforço de guerra em diversas frentes:  **Na frente militar:**  * **FEB - Força Expedicionária Brasileira:** Em 1944, a FEB, composta por cerca de 25 mil soldados, desembarcou na Itália e lutou ao lado das tropas aliadas, conquistando vitórias importantes em batalhas como Monte Castello e Montese. A atuação da FEB foi crucial para a quebra da Linha Gótica, a última linha de defesa alemã na Itália. * **FAB - Força Aérea Brasileira:** A FAB atuou no patrulhamento do Atlântico Sul, combatendo submarinos alemães e protegendo comboios navais que levavam suprimentos para a Europa. Seus pilotos se destacaram por sua bravura e eficiência. * **Bases aéreas e navais:** O Brasil cedeu bases aéreas e navais para os Aliados, que foram utilizadas para o transporte de tropas e suprimentos, além de servir como ponto estratégico para o monitoramento do Atlântico Sul.  **Na frente econômica:**  * **Exportação de matérias-primas:** O Brasil forneceu aos Aliados matérias-primas essenciais para a indústria bélica, como borracha, minério de ferro, quartzo e algodão. * **Produção de alimentos:** A produção agrícola brasileira também foi fundamental para alimentar as tropas aliadas na Europa.  **Impactos da participação:**  * **Modernização das Forças Armadas:** A participação na guerra impulsionou a modernização das Forças Armadas brasileiras, com a aquisição de novos equipamentos e a implementação de novas técnicas de combate. * **Afirmação do Brasil no cenário internacional:** A atuação do Brasil na guerra consolidou sua posição como um ator importante no cenário internacional, abrindo portas para novas alianças e acordos diplomáticos. * **Mudanças sociais e políticas:** A guerra também teve impacto na sociedade brasileira, com a intensificação da industrialização e o crescimento das cidades, além de contribuir para a queda da ditadura Vargas em 1945.  Em suma, a participação do Brasil na Segunda Guerra Mundial, embora tardia, foi crucial para a vitória dos Aliados e deixou um legado importante para o país, tanto no âmbito militar quanto no político e social. A história da FEB e da FAB na guerra serve \n",
            "Insira o laudo do aluno (ex: dislexia): dislexia\n",
            "Adaptação: ## O Brasil na Segunda Guerra Mundial: Chegamos Tarde, Mas Fizemos a Diferença! 🌎\n",
            "\n",
            "No meio da Segunda Guerra Mundial, o Brasil ficou de fora no começo. Mas os submarinos alemães começaram a atacar nossos navios, e muita gente morreu. 💔\n",
            "\n",
            "Isso, junto com a pressão dos Estados Unidos, fez o Brasil entrar na guerra contra a Alemanha e seus aliados em 1942.\n",
            "\n",
            "**Como o Brasil Ajudou:**\n",
            "\n",
            "* **Soldados Brasileiros na Itália:** Nossos soldados, chamados FEB, foram para a Itália e lutaram bravamente, ajudando a vencer os alemães em batalhas importantes. 💪\n",
            "* **Aviões Brasileiros no Oceano:** Nossos aviões voaram sobre o mar, protegendo navios que levavam comida e armas para a Europa. ✈️\n",
            "* **Bases para os Aliados:** O Brasil deu lugares para os Aliados usarem como bases, para transportar tropas e suprimentos. 🗺️\n",
            "* **Matérias-Primas:** O Brasil enviou borracha, ferro e outras coisas importantes para os Aliados fazerem armas e equipamentos. 🛠️\n",
            "* **Comida:** Nossos fazendeiros produziram muita comida para alimentar os soldados aliados. 🌾\n",
            "\n",
            "**O que Mudou no Brasil:**\n",
            "\n",
            "* **Exército Mais Forte:** A guerra ajudou a melhorar nosso exército, com novas armas e treinamento. 🛡️\n",
            "* **Brasil Mais Importante:** O Brasil ficou mais conhecido no mundo por ter ajudado na guerra. 🌎\n",
            "* **Fim da Ditadura:** A guerra também ajudou a acabar com a ditadura no Brasil em 1945. ✊\n",
            "\n",
            "A história dos soldados brasileiros na FEB e dos aviadores da FAB na Segunda Guerra Mundial mostra como o Brasil, mesmo chegando tarde, fez a diferença! 🇧🇷 \n",
            "\n",
            "\n",
            "Insira o texto da atividade: fim\n",
            "Insira o laudo do aluno (ex: dislexia): fim\n"
          ]
        }
      ]
    },
    {
      "cell_type": "markdown",
      "source": [
        "#**HISTÓRICO**\n",
        "Seu texto ficará melhor impresso neste campo após a interação."
      ],
      "metadata": {
        "id": "1LPFB0EyyYvf"
      }
    },
    {
      "cell_type": "code",
      "source": [
        "  # Melhorando a visualização\n",
        "  import textwrap\n",
        "  from IPython.display import display\n",
        "  from IPython.display import Markdown\n",
        "\n",
        "  def to_markdown(text):\n",
        "    text = text.replace('•', '  *')\n",
        "    return Markdown(textwrap.indent(text, '> ', predicate=lambda _: True))\n",
        "\n",
        "  # Imprimindo o histórico\n",
        "  for message in chat.history:\n",
        "    display(to_markdown(f'**{message.role}**: {message.parts[0].text}'))\n",
        "    print('-------------------------------------------')"
      ],
      "metadata": {
        "colab": {
          "base_uri": "https://localhost:8080/",
          "height": 1000
        },
        "id": "WCHq2-8fxqqS",
        "outputId": "296e7cab-ffbb-48cf-e0a4-18eaead1aa7b"
      },
      "execution_count": 7,
      "outputs": [
        {
          "output_type": "display_data",
          "data": {
            "text/plain": [
              "<IPython.core.display.Markdown object>"
            ],
            "text/markdown": "> **user**: Você é a inteligência artificial de uma escola. Adapte as atividades, tornando-as mais acessíveis para alunos que apresentam laudo. Use recursos visuais sempre que possível."
          },
          "metadata": {}
        },
        {
          "output_type": "stream",
          "name": "stdout",
          "text": [
            "-------------------------------------------\n"
          ]
        },
        {
          "output_type": "display_data",
          "data": {
            "text/plain": [
              "<IPython.core.display.Markdown object>"
            ],
            "text/markdown": "> **model**: **Atividades Adaptadas para Alunos com Laudo**\n> \n> **Para alunos com dificuldades de leitura:**\n> \n> * **Ler em voz alta:** Grave textos ou use aplicativos de leitura em voz alta para alunos que lutam com a leitura.\n> * **Textos simplificados:** Forneça textos escritos com linguagem mais simples e frases mais curtas.\n> * **Mapas mentais:** Crie mapas mentais visuais para ajudar os alunos a organizar e compreender informações.\n> \n> **Para alunos com dificuldades de escrita:**\n> \n> * **Software de escrita assistiva:** Use software que oferece recursos como verificação ortográfica, previsão de palavras e reconhecimento de voz.\n> * **Ditado:** Permita que os alunos ditem suas respostas para um assistente ou aplicativo de reconhecimento de voz.\n> * **Modelos:** Forneça modelos ou estruturas para ajudar os alunos a organizar seus pensamentos e ideias.\n> \n> **Para alunos com dificuldades de atenção:**\n> \n> * **Pausas frequentes:** Programe pausas regulares nas atividades para permitir que os alunos se movimentem e se concentrem novamente.\n> * **Atividades curtas e focadas:** Divida as atividades em partes menores e gerenciáveis para manter o envolvimento.\n> * **Ambientes de baixo estímulo:** Crie ambientes de aprendizado calmos e livres de distrações.\n> \n> **Para alunos com dificuldades de memória:**\n> \n> * **Lembretes visuais:** Use cartazes, gráficos e outras ajudas visuais para lembrar os alunos de informações importantes.\n> * **Jogos de memória:** Incorpore jogos de memória nas atividades para fortalecer as habilidades de recordação.\n> * **Repetição espaçada:** Revise informações regularmente para ajudar os alunos a reter conhecimento.\n> \n> **Para alunos com dificuldades de processamento:**\n> \n> * **Instruções passo a passo:** Forneça instruções claras e sequenciais para ajudar os alunos a entender as tarefas.\n> * **Demonstrações práticas:** Demonstre conceitos e habilidades para ajudar os alunos a compreender melhor.\n> * **Tempo extra:** Permita que os alunos tenham tempo extra para concluir as tarefas e processar informações."
          },
          "metadata": {}
        },
        {
          "output_type": "stream",
          "name": "stdout",
          "text": [
            "-------------------------------------------\n"
          ]
        },
        {
          "output_type": "display_data",
          "data": {
            "text/plain": [
              "<IPython.core.display.Markdown object>"
            ],
            "text/markdown": "> **user**: Exemplo 1:\n> Input: ## O Descobrimento do Brasil: Um Encontro de Mundos\n> \n> No dia 22 de abril de 1500, uma frota portuguesa liderada por Pedro Álvares Cabral avistou um novo território, que mais tarde seria chamado de Brasil. O encontro com os nativos, que habitavam a terra há milênios, marcou o início de uma nova era para ambos os povos. Os portugueses, em busca de riquezas e novas rotas comerciais, encontraram um território vasto e rico em recursos naturais. Os nativos, por sua vez, viram seu mundo ser transformado pelo contato com uma cultura completamente diferente.\n> \n> A chegada dos portugueses ao Brasil trouxe consequências profundas. A colonização trouxe consigo a exploração dos recursos naturais, a imposição de uma nova cultura e religião, e conflitos com os povos indígenas. Ao longo dos séculos, o Brasil se tornou uma importante colônia portuguesa, com uma economia baseada na agricultura e no comércio de escravos. A independência, conquistada em 1822, abriu caminho para a formação de uma nação diversa e complexa, marcada pela mistura de culturas e etnias.\n> \n> ### Perguntas para reflexão:\n> \n> 1. **Quais foram os principais motivos que levaram os portugueses a explorar e colonizar o Brasil?**\n> 2. **Como era a vida dos povos indígenas antes da chegada dos europeus? Como eles foram impactados pela colonização?**\n> 3. **Quais foram as principais atividades econômicas desenvolvidas no Brasil durante o período colonial?**\n> 4. **Quais os legados, positivos e negativos, que o período colonial deixou para o Brasil de hoje?**\n> 5. **Como o encontro de culturas entre europeus, indígenas e africanos contribuiu para a formação da identidade brasileira?**\n> Input 2: aluno com dislexia\n> Output: ## O Brasil foi Descoberto! 🌎 \n> \n> Imagina só... era 22 de abril de 1500, e um grupo de portugueses liderados pelo Pedro Álvares Cabral chegou num lugar totalmente novo! Esse lugar era o Brasil! 🇧🇷\n> \n> Antes dos portugueses chegarem, os povos indígenas já moravam aqui há muito tempo. Eles tinham sua própria cultura, suas tradições e viviam em harmonia com a natureza. 🏹🌳\n> \n> Os portugueses vieram para cá procurando coisas valiosas e novas rotas para o comércio. Eles encontraram um lugar enorme, cheio de riquezas naturais. 💎🌲\n> \n> Com a chegada dos portugueses, muitas coisas mudaram. Eles começaram a explorar as riquezas do Brasil, a ensinar sua cultura e religião, e isso gerou conflitos com os indígenas. 😔\n> \n> Durante muitos anos, o Brasil foi colônia de Portugal. A economia girava em torno da agricultura e do comércio de escravos. 🧑‍🌾⛓️\n> \n> Em 1822, o Brasil conquistou sua independência e começou a se tornar o país que conhecemos hoje: um lugar cheio de diversidade cultural e com uma mistura de povos! 🎉\n> \n> **🤔 Vamos Pensar um Pouco?**\n> \n> 1. **Por que os portugueses resolveram explorar o Brasil?**\n> 2. **Como era a vida dos indígenas antes dos portugueses chegarem? E depois?** \n> 3. **No tempo da colônia, o que os brasileiros faziam para trabalhar?**\n> 4. **O que a época da colônia deixou de bom e de ruim para o Brasil de hoje?**\n> 5. **Como a mistura de culturas ajudou a formar a identidade do povo brasileiro?**\n> \n> Exemplo 2:\n> Input: ## O Equilíbrio Químico e suas Maravilhas\n> \n> Imagine uma gangorra. Para que ela fique equilibrada, precisamos ter pesos iguais em ambos os lados, certo? No mundo da química, as reações também buscam um equilíbrio, mas ao invés de pesos, lidamos com **concentrações de reagentes e produtos**. \n> \n> Em uma **reação reversível**, tanto a formação de produtos quanto a regeneração dos reagentes ocorrem simultaneamente. Inicialmente, a velocidade da reação direta (formação de produtos) é alta, enquanto a velocidade da reação inversa (regeneração dos reagentes) é baixa. Com o tempo, as velocidades se igualam, atingindo o **equilíbrio químico**. \n> \n> Nesse estado de equilíbrio dinâmico, as concentrações de reagentes e produtos permanecem constantes, mas as reações continuam ocorrendo em velocidades iguais. É como se a gangorra estivesse perfeitamente parada, mas com as crianças ainda se movendo para cima e para baixo.\n> \n> A constante de equilíbrio (Kc) nos ajuda a entender a posição desse equilíbrio. Uma Kc grande indica que a reação favorece a formação de produtos, enquanto uma Kc pequena indica que a reação favorece os reagentes.\n> \n> O princípio de Le Chatelier nos mostra como o equilíbrio químico reage a mudanças externas. Se alteramos a concentração, temperatura ou pressão do sistema, o equilíbrio se desloca para minimizar essa mudança, buscando um novo equilíbrio. É como se alguém pulasse na gangorra - o equilíbrio é momentaneamente perturbado, mas o sistema se ajusta para encontrar um novo ponto de estabilidade.\n> \n> **Questões:**\n> \n> 1. **Explique a diferença entre uma reação irreversível e uma reação reversível.**\n> 2. **O que significa dizer que um sistema atingiu o equilíbrio químico?**\n> 3. **Como a constante de equilíbrio (Kc) se relaciona com as concentrações de reagentes e produtos?**\n> 4. **De acordo com o princípio de Le Chatelier, o que acontece com o equilíbrio químico quando aumentamos a concentração de um dos reagentes?**\n> 5. **Dê um exemplo do cotidiano que ilustra o conceito de equilíbrio dinâmico.**\n> Input 2: aluno com dislexia\n> Output: ## Equilíbrio Químico: Um Balancê Especial!\n> \n> [IMAGEM DE UMA GANGORRA EQUILIBRADA]\n> \n> Na química, as reações também buscam um equilíbrio, como uma gangorra! Mas em vez de pesos, falamos da **quantidade de ingredientes e resultados**. \n> \n> **Reações que vão e voltam:** Imagine que os ingredientes viram resultados, e os resultados viram ingredientes de novo, tudo ao mesmo tempo! No começo, os resultados se formam rapidinho, e os ingredientes voltam devagar. Com o tempo, a velocidade fica igual, e aí temos o **equilíbrio químico**!\n> \n> **Equilíbrio Químico:** É como a gangorra parada, mas com as crianças mexendo para cima e para baixo! A quantidade de ingredientes e resultados fica igual, mas as reações continuam acontecendo.\n> \n> **Perguntas:**\n> \n> 1.  O que é equilíbrio químico? Use o exemplo da gangorra para explicar.\n> 2.  O que acontece com o equilíbrio químico se adicionarmos mais ingrediente?\n> \n> Exemplo 3:\n> Input: ## Os Ricos Biomas Brasileiros\n> \n> O Brasil, com sua imensa extensão territorial, abriga uma variedade impressionante de biomas, cada um com suas características únicas de fauna, flora e clima. Desde a exuberante Floresta Amazônica até os campos abertos do Cerrado, passando pelas florestas tropicais da Mata Atlântica e os campos inundáveis do Pantanal, a diversidade de ecossistemas brasileiros é um tesouro natural.\n> \n> A Floresta Amazônica, conhecida como o \"pulmão do mundo\", é o maior bioma brasileiro, abrigando uma incalculável riqueza de espécies. O Cerrado, com suas árvores de casca grossa e raízes profundas, é o segundo maior bioma e desempenha um papel crucial na regulação do clima. A Mata Atlântica, apesar de devastada ao longo dos séculos, ainda guarda uma biodiversidade surpreendente. O Pantanal, com suas cheias e secas cíclicas, é um paraíso para a vida selvagem, abrigando jacarés, capivaras, tuiuiús e onças-pintadas. Não podemos esquecer da Caatinga, um bioma único adaptado à aridez, com plantas espinhosas e animais resistentes.\n> \n> A preservação desses biomas é fundamental para o equilíbrio ambiental e a manutenção da vida no planeta. Cada um deles enfrenta desafios, como o desmatamento, as queimadas e a poluição. É nosso dever conhecer, valorizar e proteger esses ecossistemas tão importantes para o futuro do Brasil e do mundo.\n> \n> **Perguntas:**\n> \n> 1. Quais são os principais biomas brasileiros e onde eles estão localizados?\n> 2. Por que a Floresta Amazônica é considerada o \"pulmão do mundo\"?\n> 3. Quais são as características únicas do bioma Cerrado?\n> 4. Qual a importância do Pantanal para a vida selvagem?\n> 5. Quais são os principais desafios enfrentados pelos biomas brasileiros?\n> Input 2: dislexia\n> Output: ## A Natureza Rica do Brasil\n> \n> O Brasil é gigante! E com todo esse espaço, temos vários tipos de natureza, cada um com seus bichos, plantas e clima. Vamos conhecer alguns?\n> \n> *   **Floresta Amazônica:** É como um pulmão enorme para o planeta, cheio de árvores e bichos que a gente nem imagina!\n> *   **Cerrado:** Parece um campo com árvores de casca dura e raízes bem fundas. Ele ajuda a manter o tempo bom. \n> *   **Mata Atlântica:** Já foi bem maior, mas ainda tem muitos bichos diferentes morando lá.\n> *   **Pantanal:** Muda bastante, às vezes tem muita água, às vezes seca. Jacarés, capivaras e onças adoram esse lugar.\n> *   **Caatinga:**  É seco, mas tem plantas com espinhos e bichos que conseguem viver com pouca água.\n> \n> Precisamos cuidar desses lugares, eles são importantes para o mundo todo! Mas tem coisas que fazem mal, como cortar árvores e queimar a natureza. Vamos aprender mais para proteger o Brasil!\n> \n> **Vamos Pensar:**\n> \n> 1.  Que tipo de natureza a gente encontra no Brasil e onde fica cada uma?\n> 2.  Por que a Floresta Amazônica é tão importante?\n> 3.  O que tem de diferente no Cerrado?\n> 4.  Por que o Pantanal é bom para os bichos?\n> 5.  Quais são os problemas que a natureza do Brasil enfrenta?\n> \n> Exemplo 4:\n> Input: ## A Intrincada Teia da Vida: Interações Ecológicas e seus Impactos\n> \n> Ao observarmos a natureza, podemos nos deparar com uma complexa rede de interações entre os seres vivos. Essas interações, conhecidas como **interações ecológicas**, moldam a dinâmica das comunidades e ecossistemas, influenciando a distribuição e abundância das espécies, o fluxo de energia e a ciclagem de nutrientes.\n> \n> As interações ecológicas podem ser categorizadas de diversas formas, sendo as mais comuns: **competição**, **predação**, **parasitismo**, **comensalismo** e **mutualismo**. Cada uma dessas interações apresenta suas particularidades e impactos na comunidade.\n> \n> A **competição**, por exemplo, ocorre quando indivíduos, da mesma espécie ou de espécies diferentes, competem por recursos limitados, como alimento, água, território ou luz solar. Essa disputa pode levar à exclusão de uma das espécies ou à coexistência, mediante a especialização em diferentes nichos ecológicos.\n> \n> A **predação**, por sua vez, caracteriza-se pela interação entre um predador e sua presa. Os predadores, geralmente maiores e mais fortes, capturam e consomem as presas, regulando suas populações e influenciando a estrutura da comunidade.\n> \n> Já o **parasitismo** envolve uma relação desigual, em que um organismo, o parasita, se beneficia do hospedeiro, causando-lhe algum tipo de prejuízo, geralmente sem levá-lo à morte. O parasitismo, assim como a predação, atua como um importante fator de controle populacional.\n> \n> O **comensalismo**, por outro lado, descreve uma relação em que apenas um dos organismos se beneficia, sem causar prejuízo ou benefício ao outro. Um exemplo clássico é o da rêmora, que se fixa ao corpo do tubarão para se locomover e aproveitar os restos de alimento.\n> \n> Por fim, o **mutualismo** representa uma interação benéfica para ambos os organismos envolvidos. Um exemplo emblemático é a relação entre as abelhas e as flores, em que as abelhas obtêm néctar e pólen, enquanto as flores são polinizadas.\n> \n> As interações ecológicas não se restringem a categorias estanques, podendo haver sobreposição e variação na intensidade da interação ao longo do tempo. É importante destacar que essas interações são essenciais para a manutenção da biodiversidade e para o funcionamento equilibrado dos ecossistemas. Compreender a complexa teia da vida nos permite ter uma visão mais abrangente da natureza e dos desafios enfrentados para a sua conservação.\n> \n> Para aprofundar seus conhecimentos sobre as interações ecológicas, pesquise exemplos específicos de cada tipo de interação, explore as diferentes estratégias adaptativas desenvolvidas pelos organismos e analise os impactos dessas interações em diferentes ecossistemas.\n> Input 2: dislexia\n> Output: ## A Teia da Vida: Amizades e Conflitos na Natureza\n> \n> Imagine a natureza como um grande palco, onde os seres vivos interagem como atores em uma peça. Essas interações, que chamamos de **interações ecológicas**, são como amizades, brigas e acordos que moldam a vida na Terra.\n> \n> **Competição:** É como uma disputa por um brinquedo! Animais e plantas podem competir por comida, água, espaço ou luz do sol. Quem leva a melhor? Depende da força de cada um e de como se adaptam ao ambiente.\n> \n> **Predação:** É a luta pela sobrevivência! O predador, como um leão, caça e come a presa, como uma zebra. Essa interação é importante para controlar as populações e manter o equilíbrio da natureza.\n> \n> **Parasitismo:** É como um amigo folgado! O parasita, como um carrapato, se aproveita do hospedeiro, como um cachorro, para sobreviver, mas causa algum incômodo. É uma relação desigual, mas importante para o controle de populações.\n> \n> **Comensalismo:** É como pegar uma carona! Um organismo se beneficia, como a rêmora que se prende ao tubarão para se locomover, enquanto o outro não ganha nem perde nada.\n> \n> **Mutualismo:** É a amizade verdadeira! Ambos os organismos se beneficiam, como as abelhas que coletam néctar das flores e, em troca, as polinizam.\n> \n> As interações ecológicas são complexas e podem mudar com o tempo. É como uma dança, com passos diferentes e ritmos variados! Entender essas relações nos ajuda a compreender a teia da vida e a importância de proteger a natureza.\n> \n> **Para saber mais:**\n> \n> * Procure exemplos de cada interação ecológica, como a relação entre o leão e a zebra (predação) ou a abelha e a flor (mutualismo).\n> * Observe como os animais e plantas se adaptam para sobreviver em seus ambientes.\n> * Pense no impacto das interações ecológicas em diferentes lugares, como florestas, oceanos e desertos.\n> \n> **Lembre-se:** Use imagens, desenhos e exemplos concretos para facilitar a compreensão. Explore a linguagem visual e auditiva para tornar o aprendizado mais interessante e acessível.\n> \n> Exemplo 5:\n> Input: ## Desvendando a Fórmula de Bhaskara: Uma Ferramenta Poderosa para Equações do 2º Grau\n> \n> Olá, pessoal! Hoje vamos mergulhar em um dos tópicos mais importantes da matemática: as equações do segundo grau. \n> \n> Vocês já se depararam com problemas que envolvem calcular áreas, trajetórias de projéteis ou otimização de recursos? Pois é, muitos desses problemas podem ser modelados por equações do tipo **ax² + bx + c = 0**, onde a, b e c são números reais e a ≠ 0. \n> \n> E como podemos encontrar as soluções, ou raízes, dessas equações? É aí que entra a **famosa Fórmula de Bhaskara**!\n> \n> **Mas quem foi Bhaskara?** \n> \n> Bhaskara Akaria foi um matemático indiano do século XII que, dentre várias contribuições, nos presenteou com uma fórmula elegante para resolver equações do segundo grau:\n> \n> **x = (-b ± √(b² - 4ac)) / 2a**\n> \n> Essa fórmula nos permite calcular as raízes de qualquer equação do segundo grau de forma direta, a partir dos coeficientes a, b e c. Fantástico, não é?\n> \n> **Vamos desvendar essa fórmula!**\n> \n> * **b² - 4ac:** Essa parte é chamada de **discriminante (Δ)** e nos dá informações importantes sobre as raízes:\n>     * Se Δ > 0: a equação possui duas raízes reais e distintas.\n>     * Se Δ = 0: a equação possui duas raízes reais e iguais (uma raiz dupla).\n>     * Se Δ < 0: a equação não possui raízes reais (as raízes são complexas).\n> * **-b ± √Δ:** Essa parte nos mostra que podemos ter duas soluções, uma com o sinal positivo (+) e outra com o sinal negativo (-) antes da raiz quadrada.\n> * **2a:** O denominador representa o dobro do coeficiente \"a\".\n> \n> **Na prática:**\n> \n> Para usar a fórmula, basta substituir os valores de a, b e c da sua equação e realizar as operações matemáticas. Vejamos um exemplo:\n> \n> Encontre as raízes da equação x² - 5x + 6 = 0.\n> \n> * a = 1, b = -5, c = 6\n> * Δ = (-5)² - 4 * 1 * 6 = 1\n> * x = (5 ± √1) / 2 * 1\n> * x1 = 3 e x2 = 2\n> \n> **Conclusão:**\n> \n> A Fórmula de Bhaskara é uma ferramenta poderosa para solucionar equações do segundo grau. Com ela, podemos encontrar as raízes de forma direta e eficiente, abrindo portas para a resolução de diversos problemas em diferentes áreas do conhecimento.\n> \n> **Agora é com vocês!**\n> \n> Que tal praticar a Fórmula de Bhaskara resolvendo alguns exercícios? Com dedicação e estudo, vocês dominarão essa ferramenta essencial para a matemática e suas aplicações no mundo real!\n> Input 2: dislexia\n> Output: ## Desvendando a Fórmula Mágica: Encontrando as Raízes Secretas\n> \n> Vamos imaginar as equações do segundo grau como portas secretas, e a Fórmula de Bhaskara como a chave mágica para abri-las!\n> \n> **Equações do Segundo Grau:** São como códigos secretos, tipo: 2x² + 5x - 3 = 0.  O \"x\" é o nosso segredo, a chave que queremos encontrar!\n> \n> **Bhaskara, o Mago da Matemática:** Um matemático esperto criou uma fórmula mágica para encontrar o \"x\", as raízes secretas da equação.\n> \n> **A Fórmula Mágica:**\n> \n> x = (-b ± √(b² - 4ac)) / 2a\n> \n> Parece complicado? Vamos dividir a fórmula em partes:\n> \n> * **b² - 4ac:** É como uma pista, chamada discriminante (Δ). Ela nos diz quantas raízes secretas existem:\n>     * **Δ > 0:** Duas raízes diferentes, como duas chaves que abrem a mesma porta.\n>     * **Δ = 0:** Uma raiz dupla, como uma chave que abre duas portas ao mesmo tempo.\n>     * **Δ < 0:**  Não tem raízes reais, a porta está trancada!\n> \n> * **-b ± √Δ:**  Indica que temos duas opções para a raiz, com sinais diferentes (+ ou -).\n> * **2a:** É o dobro do primeiro número da equação.\n> \n> **Exemplo Mágico:**\n> \n> Vamos abrir a porta secreta da equação x² - 5x + 6 = 0:\n> \n> 1. **Identificar os números mágicos:** a = 1, b = -5, c = 6.\n> 2. **Calcular a pista (Δ):** (-5)² - 4 * 1 * 6 = 1. A pista é positiva!\n> 3. **Aplicar a Fórmula Mágica:** \n>    * x = (5 ± √1) / 2 * 1\n>    * x1 = 3  (primeira chave)\n>    * x2 = 2  (segunda chave)\n> \n> **Conclusão:**\n> \n> Com a Fórmula de Bhaskara, desvendamos a equação e encontramos suas raízes secretas! \n> \n> **Lembre-se:**\n> \n> * Use cores diferentes para destacar as partes da fórmula.\n> * Desenhe a fórmula como um mapa do tesouro, guiando o aluno passo a passo.\n> * Use exemplos com números pequenos e situações do dia a dia para facilitar a compreensão.\n> \n> Com prática e criatividade, a Fórmula de Bhaskara se torna uma ferramenta poderosa e divertida para desvendar os mistérios das equações!\n> \n> Exemplo 6:\n> Input: ## Desvendando os Mistérios do Objeto Direto e Indireto\n> \n> Em português, a ação expressa pelo verbo pode recair sobre diferentes elementos na frase. É aí que entram os objetos, diretos e indiretos, que complementam o significado do verbo e nos ajudam a entender quem realiza e quem recebe a ação.\n> \n> **Objeto Direto: o alvo da ação**\n> \n> Imagine a frase: \"Maria comeu **o bolo**\".  A ação de comer realizada por Maria recai diretamente sobre \"o bolo\".  Ele é o objeto direto, respondendo à pergunta \"O que Maria comeu?\".\n> \n> **Características do Objeto Direto:**\n> \n> * Complementa o verbo transitivo direto (VTD).\n> * Normalmente, não é precedido por preposição, mas pode ocorrer com preposições em casos específicos.\n> * Pode ser substituído pelos pronomes oblíquos \"o(s)\", \"a(s)\".\n> * Exemplo: \"Encontrei **meus amigos** na festa\" - \"Encontrei-**os** na festa\".\n> \n> **Objeto Indireto: o beneficiário ou destinatário da ação**\n> \n> Já na frase: \"João deu **um presente** **para Maria**\", temos dois objetos. \"Um presente\" é o objeto direto, pois é o que João deu.  \"Para Maria\" é o objeto indireto, pois indica quem se beneficia da ação de dar.\n> \n> **Características do Objeto Indireto:**\n> \n> * Complementa o verbo transitivo indireto (VTI) ou verbo transitivo direto e indireto (VTDI).\n> * É sempre precedido por preposição (a, de, com, em, para, etc.).\n> * Pode ser substituído pelos pronomes oblíquos \"lhe(s)\".\n> * Exemplo: \"Enviei **uma carta** **para meu irmão**\" - \"Enviei-**lhe** **uma carta**\".\n> \n> **Distinguindo Objeto Direto e Indireto:**\n> \n> Para não confundir, lembre-se:\n> \n> * **Objeto Direto:** sofre a ação do verbo diretamente. Pergunte \"O quê?\" ou \"Quem?\" após o verbo.\n> * **Objeto Indireto:** recebe o benefício ou é o destinatário da ação. Pergunte \"A quem?\", \"Para quem?\", \"De quem?\" após o verbo.\n> \n> **Mãos à obra!**\n> \n> Agora que você já sabe a diferença, que tal praticar?  Identifique os objetos diretos e indiretos nas seguintes frases:\n> \n> 1. A professora explicou a lição aos alunos.\n> 2. O cachorro mordeu o carteiro.\n> 3. Eu gosto de música clássica.\n> 4. Ana escreveu uma carta para sua avó.\n> \n> Com prática e atenção, você dominará os objetos diretos e indiretos e navegará com mais segurança pelo mundo da gramática!\n> Input 2: dislexia\n> Output: ## Desvendando os Mistérios do Objeto Direto e Indireto: Uma Aventura da Gramática!\n> \n> Vamos imaginar a gramática como um jogo, com suas peças e regras! Duas peças importantes são o **Objeto Direto** e o **Objeto Indireto**.  Eles nos ajudam a entender quem faz e quem recebe a ação numa frase.\n> \n> **Objeto Direto: Acerte o Alvo!**\n> \n> Pense na frase: \"Maria comeu **o bolo**\".  Maria realizou a ação de comer, e o alvo dessa ação foi \"o bolo\".  Ele é o **Objeto Direto**, respondendo à pergunta \"O que Maria comeu?\".\n> \n> **Como Identificar o Objeto Direto:**\n> \n> * Ele completa a ação de um verbo, como um alvo que você precisa acertar.\n> * Geralmente, ele vem logo depois do verbo, sem preposição.\n> * Use \"o que?\" ou \"quem?\" depois do verbo para encontrá-lo!\n> * Podemos substituí-lo por \"o(s)\", \"a(s)\" para simplificar a frase.\n> * Exemplo: \"Encontrei **meus amigos** na festa\" - \"Encontrei-**os** na festa\".\n> \n> **Objeto Indireto: Para Quem Vai o Presente?**\n> \n> Agora imagine: \"João deu **um presente** **para Maria**\". João deu algo, certo? \"Um presente\" é o **Objeto Direto**. Mas, para quem ele deu? \"Para Maria\" nos diz quem se beneficia da ação, sendo o **Objeto Indireto**.\n> \n> **Como Identificar o Objeto Indireto:**\n> \n> * Ele indica quem recebe o benefício da ação, como receber um presente!\n> * Sempre vem com uma preposição antes: \"a\", \"de\", \"com\", \"em\", \"para\"...\n> * Use \"a quem?\", \"para quem?\", \"de quem?\" depois do verbo para encontrá-lo!\n> * Podemos substituí-lo por \"lhe(s)\" para simplificar a frase.\n> * Exemplo: \"Enviei **uma carta** **para meu irmão**\" - \"Enviei-**lhe** **uma carta**\".\n> \n> **Distinguindo os Objetos: Treine sua Mira!**\n> \n> Para não confundir, lembre-se:\n> \n> * **Objeto Direto:** sofre a ação diretamente. Pergunte \"O quê?\" ou \"Quem?\" após o verbo.\n> * **Objeto Indireto:** recebe o benefício da ação. Pergunte \"A quem?\", \"Para quem?\", \"De quem?\" após o verbo.\n> \n> **Hora da Prática!**\n> \n> Que tal testar suas habilidades? Identifique os objetos diretos e indiretos nas frases abaixo:\n> \n> 1. A professora explicou a lição **aos alunos**.\n> 2. O cachorro mordeu **o carteiro**.\n> 3. Eu gosto **de música clássica**.\n> 4. Ana escreveu **uma carta** **para sua avó**.\n> \n> Com prática, você dominará o jogo da gramática e seus objetos! Use cores, grife as frases e crie seus próprios exemplos para aprender de forma divertida!\n> \n"
          },
          "metadata": {}
        },
        {
          "output_type": "stream",
          "name": "stdout",
          "text": [
            "-------------------------------------------\n"
          ]
        },
        {
          "output_type": "display_data",
          "data": {
            "text/plain": [
              "<IPython.core.display.Markdown object>"
            ],
            "text/markdown": "> **model**: **Exemplo 7:**\n> \n> **Input:**\n> \n> ## A Revolução Industrial: Uma Transformação Profunda\n> \n> No século XVIII, a Europa passou por uma transformação profunda conhecida como Revolução Industrial. Impulsionada por inovações tecnológicas, como a máquina a vapor e o tear mecânico, a Revolução Industrial marcou o início de uma nova era de produção em massa e urbanização.\n> \n> A Revolução Industrial teve um impacto profundo na sociedade, economia e meio ambiente. As fábricas substituíram as oficinas artesanais, levando a uma produção mais eficiente e a uma maior disponibilidade de bens. A urbanização aumentou à medida que as pessoas se mudavam para as cidades em busca de emprego nas fábricas.\n> \n> No entanto, a Revolução Industrial também trouxe desafios. As condições de trabalho nas fábricas eram muitas vezes perigosas e insalubres. A poluição do ar e da água aumentou à medida que as fábricas liberavam fumaça e resíduos no meio ambiente.\n> \n> Apesar dos desafios, a Revolução Industrial lançou as bases para o mundo moderno. As inovações tecnológicas e os avanços econômicos que surgiram durante este período continuam a moldar nossas vidas hoje.\n> \n> **Perguntas para reflexão:**\n> \n> 1. Quais foram as principais inovações tecnológicas que impulsionaram a Revolução Industrial?\n> 2. Como a Revolução Industrial impactou a produção de bens?\n> 3. Quais foram as consequências sociais e ambientais da Revolução Industrial?\n> 4. Quais são os legados duradouros da Revolução Industrial no mundo moderno?\n> 5. Como a Revolução Industrial influenciou o desenvolvimento das cidades?\n> \n> **Input 2:**\n> \n> **Aluno com dislexia**\n> \n> ## A Revolução Industrial: Uma Mudança Grande!\n> \n> No século 18, a Europa mudou muito! Foi a Revolução Industrial. Máquinas novas, como a máquina a vapor e o tear mecânico, ajudaram a fazer as coisas mais rápido e mais fáceis.\n> \n> A Revolução Industrial mudou tudo! As fábricas substituíram as oficinas, e as cidades ficaram maiores porque as pessoas se mudaram para lá para trabalhar nas fábricas.\n> \n> Mas também teve coisas ruins. As fábricas eram perigosas e sujas, e a poluição aumentou.\n> \n> Mesmo assim, a Revolução Industrial foi importante. As máquinas novas e as fábricas ajudaram a criar o mundo que temos hoje.\n> \n> **Vamos Pensar um Pouco:**\n> \n> 1. Quais máquinas novas ajudaram na Revolução Industrial?\n> 2. Como as fábricas mudaram a maneira como as coisas eram feitas?\n> 3. Quais foram os problemas que a Revolução Industrial trouxe?\n> 4. Como a Revolução Industrial influenciou as cidades?\n> 5. O que aprendemos com a Revolução Industrial hoje?"
          },
          "metadata": {}
        },
        {
          "output_type": "stream",
          "name": "stdout",
          "text": [
            "-------------------------------------------\n"
          ]
        },
        {
          "output_type": "display_data",
          "data": {
            "text/plain": [
              "<IPython.core.display.Markdown object>"
            ],
            "text/markdown": "> **user**: input: ## ## O Brasil na Segunda Guerra Mundial: uma participação tardia, mas decisiva  A participação do Brasil na Segunda Guerra Mundial, embora tardia, foi decisiva para a vitória dos Aliados. Inicialmente neutro, o Brasil se viu pressionado por ataques de submarinos alemães a navios mercantes brasileiros, que culminaram no afundamento de cinco embarcações e na morte de mais de 600 pessoas.   Esse evento, somado à crescente pressão popular e diplomática dos Estados Unidos, levou Getúlio Vargas a declarar guerra ao Eixo em agosto de 1942. A partir daí, o Brasil se engajou em um esforço de guerra em diversas frentes:  **Na frente militar:**  * **FEB - Força Expedicionária Brasileira:** Em 1944, a FEB, composta por cerca de 25 mil soldados, desembarcou na Itália e lutou ao lado das tropas aliadas, conquistando vitórias importantes em batalhas como Monte Castello e Montese. A atuação da FEB foi crucial para a quebra da Linha Gótica, a última linha de defesa alemã na Itália. * **FAB - Força Aérea Brasileira:** A FAB atuou no patrulhamento do Atlântico Sul, combatendo submarinos alemães e protegendo comboios navais que levavam suprimentos para a Europa. Seus pilotos se destacaram por sua bravura e eficiência. * **Bases aéreas e navais:** O Brasil cedeu bases aéreas e navais para os Aliados, que foram utilizadas para o transporte de tropas e suprimentos, além de servir como ponto estratégico para o monitoramento do Atlântico Sul.  **Na frente econômica:**  * **Exportação de matérias-primas:** O Brasil forneceu aos Aliados matérias-primas essenciais para a indústria bélica, como borracha, minério de ferro, quartzo e algodão. * **Produção de alimentos:** A produção agrícola brasileira também foi fundamental para alimentar as tropas aliadas na Europa.  **Impactos da participação:**  * **Modernização das Forças Armadas:** A participação na guerra impulsionou a modernização das Forças Armadas brasileiras, com a aquisição de novos equipamentos e a implementação de novas técnicas de combate. * **Afirmação do Brasil no cenário internacional:** A atuação do Brasil na guerra consolidou sua posição como um ator importante no cenário internacional, abrindo portas para novas alianças e acordos diplomáticos. * **Mudanças sociais e políticas:** A guerra também teve impacto na sociedade brasileira, com a intensificação da industrialização e o crescimento das cidades, além de contribuir para a queda da ditadura Vargas em 1945.  Em suma, a participação do Brasil na Segunda Guerra Mundial, embora tardia, foi crucial para a vitória dos Aliados e deixou um legado importante para o país, tanto no âmbito militar quanto no político e social. A história da FEB e da FAB na guerra serve \n> \n> input 2: aluno com dislexia"
          },
          "metadata": {}
        },
        {
          "output_type": "stream",
          "name": "stdout",
          "text": [
            "-------------------------------------------\n"
          ]
        },
        {
          "output_type": "display_data",
          "data": {
            "text/plain": [
              "<IPython.core.display.Markdown object>"
            ],
            "text/markdown": "> **model**: ## O Brasil na Segunda Guerra Mundial: Chegamos Tarde, Mas Fizemos a Diferença! 🌎\n> \n> No meio da Segunda Guerra Mundial, o Brasil ficou de fora no começo. Mas os submarinos alemães começaram a atacar nossos navios, e muita gente morreu. 💔\n> \n> Isso, junto com a pressão dos Estados Unidos, fez o Brasil entrar na guerra contra a Alemanha e seus aliados em 1942.\n> \n> **Como o Brasil Ajudou:**\n> \n> * **Soldados Brasileiros na Itália:** Nossos soldados, chamados FEB, foram para a Itália e lutaram bravamente, ajudando a vencer os alemães em batalhas importantes. 💪\n> * **Aviões Brasileiros no Oceano:** Nossos aviões voaram sobre o mar, protegendo navios que levavam comida e armas para a Europa. ✈️\n> * **Bases para os Aliados:** O Brasil deu lugares para os Aliados usarem como bases, para transportar tropas e suprimentos. 🗺️\n> * **Matérias-Primas:** O Brasil enviou borracha, ferro e outras coisas importantes para os Aliados fazerem armas e equipamentos. 🛠️\n> * **Comida:** Nossos fazendeiros produziram muita comida para alimentar os soldados aliados. 🌾\n> \n> **O que Mudou no Brasil:**\n> \n> * **Exército Mais Forte:** A guerra ajudou a melhorar nosso exército, com novas armas e treinamento. 🛡️\n> * **Brasil Mais Importante:** O Brasil ficou mais conhecido no mundo por ter ajudado na guerra. 🌎\n> * **Fim da Ditadura:** A guerra também ajudou a acabar com a ditadura no Brasil em 1945. ✊\n> \n> A história dos soldados brasileiros na FEB e dos aviadores da FAB na Segunda Guerra Mundial mostra como o Brasil, mesmo chegando tarde, fez a diferença! 🇧🇷"
          },
          "metadata": {}
        },
        {
          "output_type": "stream",
          "name": "stdout",
          "text": [
            "-------------------------------------------\n"
          ]
        }
      ]
    }
  ]
}